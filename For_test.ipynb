{
 "cells": [
  {
   "cell_type": "code",
   "execution_count": 11,
   "id": "791ef430",
   "metadata": {},
   "outputs": [
    {
     "name": "stdout",
     "output_type": "stream",
     "text": [
      "(800, 600, 3)\n",
      "0\n"
     ]
    },
    {
     "data": {
      "text/plain": [
       "<matplotlib.image.AxesImage at 0x267a5675bb0>"
      ]
     },
     "execution_count": 11,
     "metadata": {},
     "output_type": "execute_result"
    },
    {
     "data": {
      "image/png": "[encoded data removed]",
      "text/plain": [
       "<Figure size 432x288 with 1 Axes>"
      ]
     },
     "metadata": {
      "needs_background": "light"
     },
     "output_type": "display_data"
    }
   ],
   "source": [
    "import cv2\n",
    "import numpy as np\n",
    "import pprint\n",
    "import os\n",
    "from matplotlib import pyplot as plt\n",
    "import nibabel as nib\n",
    "test=cv2.imdecode(np.fromfile(\"./zhou md0817995120220118085230038_0208.png\",dtype=np.uint8),cv2.IMREAD_COLOR)\n",
    "print(test.shape)\n",
    "print(test.max())\n",
    "plt.imshow(test,\"gray\")"
   ]
  },
  {
   "cell_type": "code",
   "execution_count": null,
   "id": "9698e55c",
   "metadata": {},
   "outputs": [],
   "source": [
    "image_data=test\n",
    "interact(explore_3dimage, layer=(0, image_data.shape[-1]));\n",
    "def explore_3dimage(layer):\n",
    "    plt.figure(figsize=(10, 5))\n",
    "    plt.imshow(image_data[:, :, layer], cmap='gray');\n",
    "    plt.title('Explore Layers of adrenal', fontsize=20)\n",
    "    plt.axis('off')\n",
    "    return layer"
   ]
  }
 ],
 "metadata": {
  "kernelspec": {
   "display_name": "Python 3",
   "language": "python",
   "name": "python3"
  },
  "language_info": {
   "codemirror_mode": {
    "name": "ipython",
    "version": 3
   },
   "file_extension": ".py",
   "mimetype": "text/x-python",
   "name": "python",
   "nbconvert_exporter": "python",
   "pygments_lexer": "ipython3",
   "version": "3.8.8"
  }
 },
 "nbformat": 4,
 "nbformat_minor": 5
}
