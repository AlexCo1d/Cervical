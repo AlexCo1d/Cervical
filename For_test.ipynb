{
 "cells": [
  {
   "cell_type": "code",
   "execution_count": 12,
   "id": "791ef430",
   "metadata": {},
   "outputs": [
    {
     "data": {
      "text/plain": [
       "(array([335, 336, 336, ..., 474, 474, 475], dtype=int64),\n",
       " array([708, 702, 703, ..., 646, 647, 644], dtype=int64))"
      ]
     },
     "execution_count": 12,
     "metadata": {},
     "output_type": "execute_result"
    }
   ],
   "source": [
    "import cv2\n",
    "import numpy as np\n",
    "import pprint\n",
    "from matplotlib import pyplot as plt\n",
    "test=cv2.imread(\"datasets/SegmentationClass/15LIWANRU__20180915_090247_29.png\",0)\n",
    "np.where(test==test.max())"
   ]
  },
  {
   "cell_type": "code",
   "execution_count": 16,
   "id": "f7aff94b",
   "metadata": {},
   "outputs": [
    {
     "data": {
      "image/png": "[encoded data removed]",
      "text/plain": [
       "<Figure size 432x288 with 1 Axes>"
      ]
     },
     "metadata": {
      "needs_background": "light"
     },
     "output_type": "display_data"
    }
   ],
   "source": [
    "# 使用 numpy 中的函数 np.histogram() 也可以帮我们统计直方图\n",
    "# img.ravel() 将图像转成一维数组\n",
    "hist, bins = np.histogram(test.ravel(), 256, [0, 256])\n",
    "p'ri\n",
    "plt.hist(test.ravel(), 255, [0, 255])\n",
    "plt.show()"
   ]
  },
  {
   "cell_type": "code",
   "execution_count": null,
   "id": "4b242960",
   "metadata": {},
   "outputs": [],
   "source": []
  }
 ],
 "metadata": {
  "kernelspec": {
   "display_name": "Python 3 (ipykernel)",
   "language": "python",
   "name": "python3"
  },
  "language_info": {
   "codemirror_mode": {
    "name": "ipython",
    "version": 3
   },
   "file_extension": ".py",
   "mimetype": "text/x-python",
   "name": "python",
   "nbconvert_exporter": "python",
   "pygments_lexer": "ipython3",
   "version": "3.9.12"
  }
 },
 "nbformat": 4,
 "nbformat_minor": 5
}
