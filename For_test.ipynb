{
 "cells": [
  {
   "cell_type": "code",
   "execution_count": 2,
   "id": "63ce1215",
   "metadata": {},
   "outputs": [
    {
     "name": "stdout",
     "output_type": "stream",
     "text": [
      "(640, 480, 122)\n",
      "(640, 480, 122)\n"
     ]
    },
    {
     "data": {
      "application/vnd.jupyter.widget-view+json": {
       "model_id": "5ffbb718d8f04c8fb85e63a9ce94b0ed",
       "version_major": 2,
       "version_minor": 0
      },
      "text/plain": [
       "interactive(children=(IntSlider(value=60, description='layer', max=121), Output()), _dom_classes=('widget-inte…"
      ]
     },
     "metadata": {},
     "output_type": "display_data"
    }
   ],
   "source": [
    "from matplotlib import pyplot as plt\n",
    "%matplotlib inline\n",
    "import numpy\n",
    "import nibabel as nib\n",
    "from ipywidgets import interact,interactive,IntSlider,ToggleButton\n",
    "filename=r'E:\\learning\\UNNC 科研\\202210_CSD超声标注_图片及视频\\CSD视频及标注_15例\\20220913_国妇婴_正常子宫超声视频及标注_2例\\ZC1_0001_AVI_Label.nii'\n",
    "img=nib.load(filename)\n",
    "print(img.shape)\n",
    "image_data=img.get_fdata()\n",
    "print(data.shape)\n",
    "def explore_3dimage(layer):\n",
    "    plt.figure(figsize=(10, 5))\n",
    "    plt.imshow(image_data[:, :, layer].T, cmap='gray');\n",
    "    plt.title('Explore Layers of adrenal', fontsize=20)\n",
    "    plt.axis('off')\n",
    "    return layer\n",
    "interact(explore_3dimage, layer=(0, image_data.shape[-1]-1));"
   ]
  },
  {
   "cell_type": "code",
   "execution_count": null,
   "id": "582dbbee",
   "metadata": {},
   "outputs": [],
   "source": []
  }
 ],
 "metadata": {
  "kernelspec": {
   "display_name": "Python 3 (ipykernel)",
   "language": "python",
   "name": "python3"
  },
  "language_info": {
   "codemirror_mode": {
    "name": "ipython",
    "version": 3
   },
   "file_extension": ".py",
   "mimetype": "text/x-python",
   "name": "python",
   "nbconvert_exporter": "python",
   "pygments_lexer": "ipython3",
   "version": "3.9.12"
  }
 },
 "nbformat": 4,
 "nbformat_minor": 5
}
